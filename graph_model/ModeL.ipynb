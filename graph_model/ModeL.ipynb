{
 "cells": [
  {
   "cell_type": "code",
   "execution_count": 1,
   "metadata": {},
   "outputs": [],
   "source": [
    "\n",
    "import pandas as pd \n",
    "import json\n",
    "import numpy as np\n",
    "import networkx as nx\n",
    "import scipy\n",
    "from scipy import sparse\n",
    "from scipy.sparse import csc_matrix\n",
    "import plotly.graph_objs as go\n",
    "from sklearn.model_selection import train_test_split\n",
    "from sklearn.utils import resample\n",
    "from sklearn.linear_model import LogisticRegression\n",
    "from networkx import to_numpy_matrix, degree_centrality, betweenness_centrality, shortest_path_length,read_edgelist, set_node_attributes\n",
    "from sklearn.metrics import average_precision_score,recall_score,precision_score,accuracy_score\n",
    "import os\n",
    "from matplotlib import pyplot as plt\n",
    "import matplotlib.animation as animation\n",
    "import matplotlib.pyplot as plt\n",
    "import torch\n",
    "from torch import nn\n",
    "import torch.nn.functional as F\n",
    "import torch.optim as optim\n",
    "import math\n",
    "import time\n",
    "from torch.nn.parameter import Parameter\n",
    "from torch.nn.modules.module import Module\n",
    "from sklearn.manifold import TSNE\n",
    "import warnings\n",
    "warnings.filterwarnings(\"ignore\")\n",
    "%matplotlib inline\n",
    "import matplotlib.pyplot as plt\n",
    "from mpl_toolkits.mplot3d import Axes3D\n",
    "import seaborn as sns\n",
    "from utlis import get_spectrum_embedding,load_data\n",
    "from sklearn import preprocessing\n",
    "from scipy.sparse.linalg import inv,eigs\n",
    "from plotly.offline import download_plotlyjs, init_notebook_mode, plot, iplot\n",
    "from scipy.sparse import csc_matrix\n",
    "import plotly.graph_objs as go\n",
    "from sklearn.model_selection import train_test_split\n",
    "from sklearn.utils import resample\n",
    "from sklearn.linear_model import LogisticRegression\n",
    "from sklearn.metrics import average_precision_score,recall_score,precision_score,accuracy_score\n",
    "from plot_utlis import scatter_plot\n",
    "from train_utlis import train,evaluate, loss,accuracy,get_train_test_set,fit_predict_lr,get_tsne_results\n",
    "from models import *\n",
    "from tqdm import tqdm,tqdm_notebook\n",
    "from utlis import *"
   ]
  },
  {
   "cell_type": "markdown",
   "metadata": {},
   "source": [
    "# Dataset Statistics"
   ]
  },
  {
   "cell_type": "code",
   "execution_count": 8,
   "metadata": {},
   "outputs": [
    {
     "name": "stdout",
     "output_type": "stream",
     "text": [
      "Train, Val, Test Dataset Size for dataset cora\n",
      "Training set 140, Validation Set 500, Test Set 1000\n",
      "Train, Val, Test Dataset Size for dataset citeseer\n",
      "Training set 120, Validation Set 500, Test Set 1000\n",
      "Train, Val, Test Dataset Size for dataset pubmed\n",
      "Training set 60, Validation Set 500, Test Set 1000\n",
      "Train, Val, Test Dataset Size for dataset github_user\n",
      "Training set 7539, Validation Set 30161, Test Set 30161\n"
     ]
    }
   ],
   "source": [
    "DATASET=['cora','citeseer','pubmed','github_user']\n",
    "for dataset_str in DATASET:\n",
    "    G,A_norm, features, labels, idx_train,idx_test,idx_val=load_data(dataset_str)\n",
    "\n",
    "    print(\"Train, Val, Test Dataset Size for dataset {}\".format(dataset_str))\n",
    "    print(\"Training set {}, Validation Set {}, Test Set {}\".format(len(idx_train),len(idx_val),len(idx_test)))"
   ]
  },
  {
   "cell_type": "markdown",
   "metadata": {},
   "source": [
    "# Toy Dataset"
   ]
  },
  {
   "cell_type": "code",
   "execution_count": 229,
   "metadata": {},
   "outputs": [],
   "source": [
    "data,features,labels=load_data('karate4')\n",
    "A = nx.adjacency_matrix(data)\n",
    "A_norm = preprocess_adj(A)\n",
    "n_labels=len(set(labels))"
   ]
  },
  {
   "cell_type": "code",
   "execution_count": 230,
   "metadata": {},
   "outputs": [],
   "source": [
    "#A_norm=sparse_mx_to_torch_sparse_tensor(A)"
   ]
  },
  {
   "cell_type": "code",
   "execution_count": 233,
   "metadata": {},
   "outputs": [],
   "source": [
    "labels=torch.LongTensor(labels)\n",
    "features=sparse.csr_matrix(np.eye(*A.shape)).todense()\n",
    "\n",
    "\n",
    "\n",
    "features=torch.FloatTensor(features)"
   ]
  },
  {
   "cell_type": "code",
   "execution_count": 234,
   "metadata": {},
   "outputs": [],
   "source": [
    "idx_train=torch.LongTensor([0,33,6,27])\n",
    "idx_test=torch.LongTensor(range(34))"
   ]
  },
  {
   "cell_type": "code",
   "execution_count": 261,
   "metadata": {},
   "outputs": [],
   "source": [
    "\n",
    "\n",
    "class ToyGCN(nn.Module):\n",
    "    def __init__(self, adj, nfeat, nhid, nclass, dropout, res_connection=True,get_hidden=False):\n",
    "        super(ToyGCN, self).__init__()\n",
    "        self.adj = adj\n",
    "        self.gc1 = GCNLayer(self.adj, nfeat, nhid, res_connection=res_connection)\n",
    "        self.gc2 = GCNLayer(self.adj, nhid, 2, res_connection=res_connection)\n",
    "        self.gc3 = GCNLayer(self.adj, 2, nclass, res_connection=res_connection)\n",
    "        self.dropout_rate = dropout\n",
    "        self.relu = nn.ReLU()\n",
    "        self.get_hidden=get_hidden\n",
    "        \n",
    "\n",
    "    def forward(self, x):\n",
    "        x = self.gc1(x)\n",
    "        x = self.relu(x)\n",
    "        #x = F.dropout(x, self.dropout_rate, self.training)\n",
    "        hidden = self.gc2(x)\n",
    "        x = self.relu(hidden)\n",
    "        \n",
    "        #x = F.dropout(x, self.dropout_rate, self.training)\n",
    "        x = self.gc3(x)\n",
    "        \n",
    "        if self.get_hidden:\n",
    "            return x,hidden\n",
    "        return x\n",
    "\n",
    "# class Graph_Conv(nn.Module):\n",
    "#     def __init__(self, adj,nfeat, nhid, nclass, dropout,res_connection=True,get_hidden=False):\n",
    "#         super(Graph_Conv, self).__init__()\n",
    "#         self.adj=adj\n",
    "#         self.gc1 = GCNLayer(self.adj,nfeat, nhid,res_connection=res_connection)\n",
    "#         self.gc2 = GCNLayer(self.adj,nhid, nclass,res_connection=res_connection)\n",
    "# #         self.gc3 = GCNLayer(self.adj,2, nclass,res_connection=res_connection)\n",
    "#         self.dropout_rate = dropout\n",
    "#         self.relu=nn.ReLU()\n",
    "#         self.loss_fuc=nn.CrossEntropyLoss(reduction='mean')\n",
    "#         self.get_hidden=False\n",
    "        \n",
    "\n",
    "#     def forward(self, x):\n",
    "#         x = self.relu(self.gc1(x))\n",
    "# #         x =F.dropout(x, self.dropout_rate, self.training)\n",
    "# #         nf = self.relu(self.gc2(x))\n",
    "# #         print(nf.shape)\n",
    "#         x =F.dropout(x, self.dropout_rate, self.training)\n",
    "#         x = self.gc2(x)\n",
    "#         return x,x\n",
    "    \n",
    "      "
   ]
  },
  {
   "cell_type": "code",
   "execution_count": null,
   "metadata": {},
   "outputs": [],
   "source": [
    "def train_sp(model,features,idx_train,labels,optimizer):\n",
    "  \n",
    "    model.train()\n",
    "    if model.get_hidden:\n",
    "        output,hidden = model(features)\n",
    "    else:\n",
    "        output= model(features)\n",
    "        \n",
    "    loss_train=loss(output,labels,idx_train)\n",
    "    acc_train = accuracy(output, labels,idx_train)\n",
    "    optimizer.zero_grad()\n",
    "    loss_train.backward()\n",
    "    \n",
    "    optimizer.step()\n",
    "    \n",
    "    if model.get_hidden:\n",
    "        return loss_train.item(),acc_train.item(),output,hidden\n",
    "   \n",
    "    return loss_train.item(),acc_train.item(),output\n",
    "\n",
    "\n",
    "def evaluate_sp(model,features,idx,labels):\n",
    "    model.eval()\n",
    "    if model.get_hidden:\n",
    "        output,hidden = model(features)\n",
    "    else:\n",
    "        output= model(features)\n",
    "\n",
    "    loss_ =loss(output,labels,idx)\n",
    "    acc_ = accuracy(output, labels,idx)\n",
    "    \n",
    "    \n",
    "    if model.get_hidden:\n",
    "        return loss_.item(),acc_.item(),output,hidden\n",
    "\n",
    "    return loss_.item(),acc_.item(),output\n"
   ]
  },
  {
   "cell_type": "code",
   "execution_count": 265,
   "metadata": {},
   "outputs": [
    {
     "data": {
      "application/vnd.jupyter.widget-view+json": {
       "model_id": "d6826f5b0b1f4683853d3527e32b7f06",
       "version_major": 2,
       "version_minor": 0
      },
      "text/plain": [
       "HBox(children=(IntProgress(value=0, max=300), HTML(value='')))"
      ]
     },
     "metadata": {},
     "output_type": "display_data"
    },
    {
     "name": "stdout",
     "output_type": "stream",
     "text": [
      "\n",
      "Optimization Finished!\n",
      "Total Training time elapsed: 0.5695s\n",
      "Start Inference:\n",
      "Train: loss;: 0.0016 acc: 1.0000\n",
      "Test: loss;: 0.0016 acc: 1.0000\n"
     ]
    }
   ],
   "source": [
    "\n",
    "no_cuda= False,\n",
    "seed=42\n",
    "epochs=300\n",
    "lr=0.02\n",
    "weight_decay=0\n",
    "hidden=32\n",
    "dropout=0\n",
    "fast_training=False\n",
    "device = torch.device(\"cuda\" if torch.cuda.is_available() and not no_cuda else \"cpu\")\n",
    "early_stop_epoch=5000\n",
    "\n",
    "\n",
    "model = ToyGCN(adj=A_norm,nfeat=features.shape[1],\n",
    "            nhid=hidden,\n",
    "            nclass=labels.max().item() + 1,\n",
    "            dropout=dropout,res_connection=True,get_hidden=True).to(device=device)\n",
    "optimizer = torch.optim.Adam(model.parameters(), lr=lr)\n",
    "\n",
    "# Train model\n",
    "t_total = time.time()\n",
    "\n",
    "min_val_loss=float('inf')\n",
    "feature_representation=[]\n",
    "_,_,_,hidden=evaluate_sp(model,features,idx_train,labels)\n",
    "feature_representation.append(hidden)\n",
    "for epoch in tqdm_notebook(range(epochs)):\n",
    "    loss_train,acc_train,output,hidden=train_sp(model,features,idx_test,labels,optimizer)\n",
    "    feature_representation.append(hidden)\n",
    "    if not fast_training:\n",
    "        \n",
    "        loss_val,acc_val,output,hidden=evaluate_sp(model,features,idx_test,labels)\n",
    "  \n",
    "#         print('Eval: ,loss_val: {:.4f},acc_val: {:.4f}\\n'.format(loss_val,acc_val),end=\"\")\n",
    "        if loss_val<min_val_loss:\n",
    "          epoch_no_improvement=0\n",
    "          min_val_loss = loss_val\n",
    "        else:\n",
    "          epoch_no_improvement+=1\n",
    "        \n",
    "        if epoch_no_improvement==early_stop_epoch:\n",
    "          print('Early Stop at Epoch %d'%(epoch))\n",
    "          break\n",
    "        #print()\n",
    "          \n",
    "print(\"Optimization Finished!\")\n",
    "print(\"Total Training time elapsed: {:.4f}s\".format(time.time() - t_total))\n",
    "\n",
    "\n",
    "#test\n",
    "print(\"Start Inference:\")\n",
    "\n",
    "\n",
    "loss_trn,acc_trn,_,hidden=evaluate_sp(model,features,idx_test,labels)\n",
    "print('Train:','loss;: {:.4f}'.format( loss_trn),\n",
    "          'acc: {:.4f}'.format(acc_trn))\n",
    "\n",
    "\n",
    "loss_test,acc_test,_,_=evaluate_sp(model,features,idx_test,labels)\n",
    "print('Test:','loss;: {:.4f}'.format( loss_test),\n",
    "          'acc: {:.4f}'.format(acc_test))\n",
    "\n"
   ]
  },
  {
   "cell_type": "code",
   "execution_count": 267,
   "metadata": {},
   "outputs": [],
   "source": [
    "def draw( i,epoch):\n",
    "#     if epoch is None:\n",
    "#         epoch = len(feature_representations) - 1\n",
    "\n",
    "    \n",
    "    n_categroy=n_labels\n",
    "    color_list = ['#ff6a00','#ffdd00','#DF2E2E',\"#2E51DF\"]\n",
    "    node_list=data.nodes()\n",
    "\n",
    "\n",
    "    pos = {}\n",
    "    number_of_points=feature_representation[0].size(0)\n",
    "     \n",
    "    for v in range(number_of_points):\n",
    "        pos[v] = feature_representation[ i][v].detach().numpy()\n",
    "#     X = feature_representation[i].detach().numpy()\n",
    "#     X_embedded = TSNE(n_components=2).fit_transform(X)\n",
    "#     for v in range(number_of_points):\n",
    "#         pos[v] = X_embedded[v]\n",
    "    \n",
    "    ax.cla()\n",
    "    ax.axis('off')\n",
    "    #ax.set_title('Epoch: %d' % i)\n",
    "    ax.set_title('Epoch %d'%(int( epoch)))\n",
    "    label_names= ['C'+str(i) for i in range(n_labels)]\n",
    "    \n",
    "\n",
    "    for i_cate in range(n_categroy):\n",
    "        nx.draw_networkx(data, pos, nodelist= [n for j,n in enumerate(node_list) if labels[j]==i_cate],node_color=color_list[i_cate],\n",
    "                with_labels=True, node_size=50, ax=ax,font_size=5)\n",
    "    \n",
    "    \n",
    "    \n",
    "    nx.draw_networkx_edges(data, pos,width=1,alpha=1,edge_color='#DFDEDE')\n",
    "    nx.draw_networkx_nodes(data, pos, nodelist=[0], node_size=350,node_color = color_list[0])\n",
    "    nx.draw_networkx_nodes(data, pos, nodelist=[33], node_size=350,node_color = color_list[1])\n",
    "    nx.draw_networkx_nodes(data, pos, nodelist=[6], node_size=350,node_color = color_list[2])\n",
    "    nx.draw_networkx_nodes(data, pos, nodelist=[27], node_size=350,node_color = color_list[3])"
   ]
  },
  {
   "cell_type": "code",
   "execution_count": null,
   "metadata": {},
   "outputs": [],
   "source": [
    "\n",
    "    \n",
    "    \n",
    "for i,epoch in enumerate([0,50,100,150,200,250,300]):\n",
    "    fig = plt.figure(dpi=150)\n",
    "    fig.clf()\n",
    "    ax = fig.subplots()\n",
    "    draw(i,epoch)\n",
    "    plt.legend(loc=0, fontsize = 'x-small')\n",
    "    plt.axis('on')\n",
    "    plt.show()\n",
    "    #plt.savefig(\"figure_kara_4label/epoch_%d.jpg\"%(int(i)))\n",
    " "
   ]
  },
  {
   "cell_type": "markdown",
   "metadata": {},
   "source": [
    "## Genearate Video"
   ]
  },
  {
   "cell_type": "code",
   "execution_count": null,
   "metadata": {},
   "outputs": [],
   "source": [
    "\n",
    "from matplotlib import animation, rc\n",
    "from IPython.display import HTML\n"
   ]
  },
  {
   "cell_type": "code",
   "execution_count": 269,
   "metadata": {},
   "outputs": [],
   "source": [
    "# plt.close()\n",
    "# from matplotlib import animation, rc\n",
    "# # fig = plt.figure(dpi=150)\n",
    "# # fig.clf()\n",
    "# # def anim_init():\n",
    "# #     fig.clear()\n",
    "# ani = animation.FuncAnimation(fig, draw, frames=list(range(0,50)), interval=100,repeat_delay=1000)\n",
    "# from IPython.display import HTML\n",
    "# rc('animation', html='html5')\n",
    "# HTML(ani.to_html5_video())\n"
   ]
  },
  {
   "cell_type": "markdown",
   "metadata": {},
   "source": [
    "# Valina GCN"
   ]
  },
  {
   "cell_type": "code",
   "execution_count": 9,
   "metadata": {},
   "outputs": [],
   "source": [
    "  \n",
    "def train(idx_train):\n",
    "  \n",
    "    model.train()\n",
    "   \n",
    "    output = model(features)\n",
    "    \n",
    "    loss_train=loss(output,labels,idx_train)\n",
    "    acc_train = accuracy(output, labels,idx_train)\n",
    "    optimizer.zero_grad()\n",
    "    loss_train.backward()\n",
    "    \n",
    "    optimizer.step()\n",
    "   \n",
    "    return loss_train.item(),acc_train.item()\n",
    "\n",
    "\n",
    "def evaluate(idx):\n",
    "    model.eval()\n",
    "    output = model(features)\n",
    "    loss_ =loss(output,labels,idx)\n",
    "    acc_ = accuracy(output, labels,idx)\n",
    "\n",
    "    return loss_.item(),acc_.item()\n",
    "\n"
   ]
  },
  {
   "cell_type": "code",
   "execution_count": 11,
   "metadata": {},
   "outputs": [
    {
     "name": "stdout",
     "output_type": "stream",
     "text": [
      "\n",
      "cora\n"
     ]
    },
    {
     "data": {
      "application/vnd.jupyter.widget-view+json": {
       "model_id": "ec4049b0a1e0440eb4d7365a79897fae",
       "version_major": 2,
       "version_minor": 0
      },
      "text/plain": [
       "HBox(children=(IntProgress(value=0, max=400), HTML(value='')))"
      ]
     },
     "metadata": {},
     "output_type": "display_data"
    },
    {
     "name": "stdout",
     "output_type": "stream",
     "text": [
      "Early Stop at Epoch 192\n",
      "Optimization Finished!\n",
      "Total Training time elapsed: 4.0947s\n",
      "Start Inference:\n",
      "Train: loss;: 0.2390 acc: 1.0000\n",
      "Test: loss;: 0.7783 acc: 0.8100\n",
      "Total Inference time elapsed: 0.0096s\n",
      "\n",
      "citeseer\n",
      "\n"
     ]
    },
    {
     "data": {
      "application/vnd.jupyter.widget-view+json": {
       "model_id": "f277d41e13924eaea24a8535e73e55c1",
       "version_major": 2,
       "version_minor": 0
      },
      "text/plain": [
       "HBox(children=(IntProgress(value=0, max=400), HTML(value='')))"
      ]
     },
     "metadata": {},
     "output_type": "display_data"
    },
    {
     "name": "stdout",
     "output_type": "stream",
     "text": [
      "Early Stop at Epoch 249\n",
      "Optimization Finished!\n",
      "Total Training time elapsed: 21.0264s\n",
      "Start Inference:\n",
      "Train: loss;: 0.3362 acc: 0.9833\n",
      "Test: loss;: 1.0484 acc: 0.7120\n",
      "Total Inference time elapsed: 0.0388s\n",
      "\n",
      "pubmed\n"
     ]
    },
    {
     "data": {
      "application/vnd.jupyter.widget-view+json": {
       "model_id": "8c46b6eba9d640f7995017f4800c5c7e",
       "version_major": 2,
       "version_minor": 0
      },
      "text/plain": [
       "HBox(children=(IntProgress(value=0, max=400), HTML(value='')))"
      ]
     },
     "metadata": {},
     "output_type": "display_data"
    },
    {
     "name": "stdout",
     "output_type": "stream",
     "text": [
      "Early Stop at Epoch 169\n",
      "Optimization Finished!\n",
      "Total Training time elapsed: 20.2437s\n",
      "Start Inference:\n",
      "Train: loss;: 0.1227 acc: 1.0000\n",
      "Test: loss;: 0.5827 acc: 0.7910\n",
      "Total Inference time elapsed: 0.0531s\n"
     ]
    }
   ],
   "source": [
    "DATASET=['cora','citeseer','pubmed']\n",
    "\n",
    "no_cuda= False,\n",
    "seed=42\n",
    "epochs=400\n",
    "lr=0.01\n",
    "weight_decay=5e-4\n",
    "hidden=16\n",
    "dropout=0.5\n",
    "fast_training=False\n",
    "device = torch.device(\"cuda\" if torch.cuda.is_available() and not no_cuda else \"cpu\")\n",
    "early_stop_epoch=10\n",
    "\n",
    "\n",
    "for dataset_str in DATASET:\n",
    "    print()\n",
    "    print(dataset_str)\n",
    "    G,A_norm, features, labels, idx_train,idx_test,idx_val=load_data(dataset_str)\n",
    "    model = SimpleGCN(adj=A_norm,nfeat=features.shape[1],\n",
    "                nhid=hidden,\n",
    "                nclass=labels.max().item() + 1,\n",
    "                dropout=dropout,res_connection=False).to(device=device)\n",
    "    optimizer = torch.optim.Adam(model.parameters(), lr=lr,weight_decay=weight_decay)\n",
    "\n",
    "\n",
    "\n",
    "    # Train model\n",
    "    t_total = time.time()\n",
    "    epoch_no_improvement=0\n",
    "    min_val_loss=float('inf')\n",
    "\n",
    "    init_loss_train, init_acc_train=evaluate(idx_train)\n",
    "    training_loss_list=[init_loss_train]\n",
    "    training_error_list=[1-init_acc_train]\n",
    "\n",
    "    if not fast_training:\n",
    "        init_loss_val, init_acc_val=evaluate(idx_val)\n",
    "        validation_loss_list=[init_loss_val]\n",
    "        validation_error_list=[1-init_acc_val]\n",
    "\n",
    "    for epoch in tqdm_notebook(range(epochs)):\n",
    "\n",
    "        loss_train,acc_train=train(idx_train)\n",
    "        training_loss_list.append(loss_train)\n",
    "        training_error_list.append(1-acc_train)\n",
    "        #print('Epoch: {:04d} ,loss_train: {:.4f},acc_train: {:.4f}\\n'.format(epoch+1,loss_train,acc_train),end=\"\")\n",
    "\n",
    "        if not fast_training:\n",
    "\n",
    "            loss_val,acc_val=evaluate(idx_val)\n",
    "            validation_loss_list.append(loss_val)\n",
    "            validation_error_list.append(1-acc_val)\n",
    "\n",
    "           #print('Eval: ,loss_val: {:.4f},acc_val: {:.4f}\\n'.format(loss_val,acc_val),end=\"\")\n",
    "            if loss_val<min_val_loss:\n",
    "              epoch_no_improvement=0\n",
    "              min_val_loss = loss_val\n",
    "            else:\n",
    "              epoch_no_improvement+=1\n",
    "\n",
    "            if epoch_no_improvement==early_stop_epoch:\n",
    "              print('Early Stop at Epoch %d'%(epoch))\n",
    "              break\n",
    "            #print()\n",
    "\n",
    "\n",
    "    print(\"Optimization Finished!\")\n",
    "    print(\"Total Training time elapsed: {:.4f}s\".format(time.time() - t_total))\n",
    "\n",
    "\n",
    "    #test\n",
    "    print(\"Start Inference:\")\n",
    "\n",
    "\n",
    "    loss_trn,acc_trn=evaluate(idx_train)\n",
    "    print('Train:','loss;: {:.4f}'.format( loss_trn),\n",
    "              'acc: {:.4f}'.format(acc_trn))\n",
    "\n",
    "\n",
    "    t_total = time.time()\n",
    "    loss_test,acc_test=evaluate(idx_test)\n",
    "    print('Test:','loss;: {:.4f}'.format( loss_test),\n",
    "              'acc: {:.4f}'.format(acc_test))\n",
    "    print(\"Total Inference time elapsed: {:.4f}s\".format(time.time() - t_total))\n"
   ]
  },
  {
   "cell_type": "code",
   "execution_count": 9,
   "metadata": {},
   "outputs": [
    {
     "name": "stdout",
     "output_type": "stream",
     "text": [
      "\n",
      "github_user\n"
     ]
    },
    {
     "data": {
      "application/vnd.jupyter.widget-view+json": {
       "model_id": "8d7ae2df3e1643289cc67290b67c580c",
       "version_major": 2,
       "version_minor": 0
      },
      "text/plain": [
       "HBox(children=(IntProgress(value=0, max=400), HTML(value='')))"
      ]
     },
     "metadata": {},
     "output_type": "display_data"
    },
    {
     "name": "stdout",
     "output_type": "stream",
     "text": [
      "Early Stop at Epoch 227\n",
      "Optimization Finished!\n",
      "Total Training time elapsed: 517.7949s\n",
      "Start Inference:\n",
      "Train: loss;: 0.4439 acc: 0.7762\n",
      "Test: loss;: 0.5156 acc: 0.7507\n",
      "Total Inference time elapsed: 1.0861s\n"
     ]
    }
   ],
   "source": []
  },
  {
   "cell_type": "markdown",
   "metadata": {},
   "source": [
    "# GCN with ResCon"
   ]
  },
  {
   "cell_type": "code",
   "execution_count": 6,
   "metadata": {},
   "outputs": [],
   "source": [
    "  \n",
    "def train(idx_train):\n",
    "  \n",
    "    model.train()\n",
    "   \n",
    "    output = model(features)\n",
    "    \n",
    "    loss_train=loss(output,labels,idx_train)\n",
    "    acc_train = accuracy(output, labels,idx_train)\n",
    "    optimizer.zero_grad()\n",
    "    loss_train.backward()\n",
    "    \n",
    "    optimizer.step()\n",
    "   \n",
    "    return loss_train.item(),acc_train.item()\n",
    "\n",
    "\n",
    "def evaluate(idx):\n",
    "    model.eval()\n",
    "    output = model(features)\n",
    "    loss_ =loss(output,labels,idx)\n",
    "    acc_ = accuracy(output, labels,idx)\n",
    "\n",
    "    return loss_.item(),acc_.item()\n",
    "\n"
   ]
  },
  {
   "cell_type": "code",
   "execution_count": null,
   "metadata": {},
   "outputs": [],
   "source": []
  },
  {
   "cell_type": "code",
   "execution_count": 15,
   "metadata": {},
   "outputs": [
    {
     "name": "stdout",
     "output_type": "stream",
     "text": [
      "\n",
      "cora\n"
     ]
    },
    {
     "data": {
      "application/vnd.jupyter.widget-view+json": {
       "model_id": "032e5abe8115430cbdc94b6bbeb723ad",
       "version_major": 2,
       "version_minor": 0
      },
      "text/plain": [
       "HBox(children=(IntProgress(value=0, max=400), HTML(value='')))"
      ]
     },
     "metadata": {},
     "output_type": "display_data"
    },
    {
     "name": "stdout",
     "output_type": "stream",
     "text": [
      "Early Stop at Epoch 153\n",
      "Optimization Finished!\n",
      "Total Training time elapsed: 4.7659s\n",
      "Start Inference:\n",
      "Train: loss;: 0.0437 acc: 1.0000\n",
      "Test: loss;: 0.7461 acc: 0.7770\n",
      "Total Inference time elapsed: 0.0120s\n",
      "\n",
      "citeseer\n"
     ]
    },
    {
     "data": {
      "application/vnd.jupyter.widget-view+json": {
       "model_id": "e74b39ca086e4fa0a69877878b3fc5da",
       "version_major": 2,
       "version_minor": 0
      },
      "text/plain": [
       "HBox(children=(IntProgress(value=0, max=400), HTML(value='')))"
      ]
     },
     "metadata": {},
     "output_type": "display_data"
    },
    {
     "name": "stdout",
     "output_type": "stream",
     "text": [
      "Early Stop at Epoch 163\n",
      "Optimization Finished!\n",
      "Total Training time elapsed: 17.1050s\n",
      "Start Inference:\n",
      "Train: loss;: 0.0586 acc: 1.0000\n",
      "Test: loss;: 0.9238 acc: 0.7170\n",
      "Total Inference time elapsed: 0.0439s\n",
      "\n",
      "pubmed\n"
     ]
    },
    {
     "data": {
      "application/vnd.jupyter.widget-view+json": {
       "model_id": "edc00a89b97146faab2a253b586fde51",
       "version_major": 2,
       "version_minor": 0
      },
      "text/plain": [
       "HBox(children=(IntProgress(value=0, max=400), HTML(value='')))"
      ]
     },
     "metadata": {},
     "output_type": "display_data"
    },
    {
     "name": "stdout",
     "output_type": "stream",
     "text": [
      "Early Stop at Epoch 69\n",
      "Optimization Finished!\n",
      "Total Training time elapsed: 9.4488s\n",
      "Start Inference:\n",
      "Train: loss;: 0.0334 acc: 1.0000\n",
      "Test: loss;: 0.6090 acc: 0.7650\n",
      "Total Inference time elapsed: 0.0575s\n"
     ]
    }
   ],
   "source": [
    "DATASET=['cora','citeseer','pubmed']\n",
    "\n",
    "no_cuda= False,\n",
    "seed=42\n",
    "epochs=400\n",
    "lr=0.01\n",
    "weight_decay=5e-4\n",
    "hidden=32\n",
    "dropout=0.5\n",
    "fast_training=False\n",
    "device = torch.device(\"cuda\" if torch.cuda.is_available() and not no_cuda else \"cpu\")\n",
    "early_stop_epoch=10\n",
    "\n",
    "\n",
    "for dataset_str in DATASET:\n",
    "    print()\n",
    "    print(dataset_str)\n",
    "    G,A_norm, features, labels, idx_train,idx_test,idx_val=load_data(dataset_str)\n",
    "\n",
    "    model = MutipleGCN(adj=A_norm,ngcu=2,nfeat=features.shape[1],\n",
    "                nhid=hidden,\n",
    "                nclass=labels.max().item() + 1,\n",
    "                dropout=dropout,res_connection=True).to(device=device)\n",
    "    optimizer = torch.optim.Adam(model.parameters(), lr=lr,weight_decay=weight_decay)\n",
    "\n",
    "\n",
    "\n",
    "    # Train model\n",
    "    t_total = time.time()\n",
    "    epoch_no_improvement=0\n",
    "    min_val_loss=float('inf')\n",
    "\n",
    "    init_loss_train, init_acc_train=evaluate(idx_train)\n",
    "    training_loss_list=[init_loss_train]\n",
    "    training_error_list=[1-init_acc_train]\n",
    "\n",
    "    if not fast_training:\n",
    "        init_loss_val, init_acc_val=evaluate(idx_val)\n",
    "        validation_loss_list=[init_loss_val]\n",
    "        validation_error_list=[1-init_acc_val]\n",
    "\n",
    "    for epoch in tqdm_notebook(range(epochs)):\n",
    "\n",
    "        loss_train,acc_train=train(idx_train)\n",
    "        training_loss_list.append(loss_train)\n",
    "        training_error_list.append(1-acc_train)\n",
    "        #print('Epoch: {:04d} ,loss_train: {:.4f},acc_train: {:.4f}\\n'.format(epoch+1,loss_train,acc_train),end=\"\")\n",
    "\n",
    "        if not fast_training:\n",
    "\n",
    "            loss_val,acc_val=evaluate(idx_val)\n",
    "            validation_loss_list.append(loss_val)\n",
    "            validation_error_list.append(1-acc_val)\n",
    "\n",
    "           #print('Eval: ,loss_val: {:.4f},acc_val: {:.4f}\\n'.format(loss_val,acc_val),end=\"\")\n",
    "            if loss_val<min_val_loss:\n",
    "              epoch_no_improvement=0\n",
    "              min_val_loss = loss_val\n",
    "            else:\n",
    "              epoch_no_improvement+=1\n",
    "\n",
    "            if epoch_no_improvement==early_stop_epoch:\n",
    "              print('Early Stop at Epoch %d'%(epoch))\n",
    "              break\n",
    "            #print()\n",
    "\n",
    "\n",
    "    print(\"Optimization Finished!\")\n",
    "    print(\"Total Training time elapsed: {:.4f}s\".format(time.time() - t_total))\n",
    "\n",
    "\n",
    "    #test\n",
    "    print(\"Start Inference:\")\n",
    "\n",
    "\n",
    "    loss_trn,acc_trn=evaluate(idx_train)\n",
    "    print('Train:','loss;: {:.4f}'.format( loss_trn),\n",
    "              'acc: {:.4f}'.format(acc_trn))\n",
    "\n",
    "\n",
    "    t_total = time.time()\n",
    "    loss_test,acc_test=evaluate(idx_test)\n",
    "    print('Test:','loss;: {:.4f}'.format( loss_test),\n",
    "              'acc: {:.4f}'.format(acc_test))\n",
    "    print(\"Total Inference time elapsed: {:.4f}s\".format(time.time() - t_total))\n"
   ]
  },
  {
   "cell_type": "code",
   "execution_count": 10,
   "metadata": {
    "scrolled": true
   },
   "outputs": [
    {
     "name": "stdout",
     "output_type": "stream",
     "text": [
      "\n",
      "github_user\n"
     ]
    },
    {
     "data": {
      "application/vnd.jupyter.widget-view+json": {
       "model_id": "3a3606c7a006478b871336148929ec94",
       "version_major": 2,
       "version_minor": 0
      },
      "text/plain": [
       "HBox(children=(IntProgress(value=0, max=400), HTML(value='')))"
      ]
     },
     "metadata": {},
     "output_type": "display_data"
    },
    {
     "name": "stdout",
     "output_type": "stream",
     "text": [
      "Early Stop at Epoch 24\n",
      "Optimization Finished!\n",
      "Total Training time elapsed: 62.7231s\n",
      "Start Inference:\n",
      "Train: loss;: 0.4436 acc: 0.7420\n",
      "Test: loss;: 0.5730 acc: 0.7416\n",
      "Total Inference time elapsed: 1.1013s\n"
     ]
    }
   ],
   "source": []
  },
  {
   "cell_type": "markdown",
   "metadata": {},
   "source": [
    "# GAT"
   ]
  },
  {
   "cell_type": "code",
   "execution_count": 16,
   "metadata": {},
   "outputs": [],
   "source": [
    "no_cuda= False,\n",
    "seed=42\n",
    "epochs=200\n",
    "lr=0.005\n",
    "weight_decay=1e-3\n",
    "hidden=8\n",
    "dropout=0.6\n",
    "fast_training=False\n",
    "device = torch.device(\"cuda\" if torch.cuda.is_available() and not no_cuda else \"cpu\")\n",
    "early_stop_epoch=10\n",
    "nheads=8"
   ]
  },
  {
   "cell_type": "code",
   "execution_count": 17,
   "metadata": {},
   "outputs": [
    {
     "data": {
      "application/vnd.jupyter.widget-view+json": {
       "model_id": "c9df1ffb43be4bd1ad8404bfbafbd1e5",
       "version_major": 2,
       "version_minor": 0
      },
      "text/plain": [
       "HBox(children=(IntProgress(value=0, max=200), HTML(value='')))"
      ]
     },
     "metadata": {},
     "output_type": "display_data"
    },
    {
     "name": "stdout",
     "output_type": "stream",
     "text": [
      "\n",
      "Optimization Finished!\n",
      "Total Training time elapsed: 52.2657s\n",
      "Start Inference:\n",
      "Train: loss;: 0.2831 acc: 0.9929\n",
      "Test: loss;: 0.8154 acc: 0.8150\n",
      "Total Inference time elapsed: 0.0556s\n"
     ]
    },
    {
     "data": {
      "application/vnd.jupyter.widget-view+json": {
       "model_id": "6f1f63f5c0ad41259ace935e966d0ee7",
       "version_major": 2,
       "version_minor": 0
      },
      "text/plain": [
       "HBox(children=(IntProgress(value=0, max=200), HTML(value='')))"
      ]
     },
     "metadata": {},
     "output_type": "display_data"
    },
    {
     "name": "stdout",
     "output_type": "stream",
     "text": [
      "\n",
      "Optimization Finished!\n",
      "Total Training time elapsed: 104.6717s\n",
      "Start Inference:\n",
      "Train: loss;: 0.4135 acc: 1.0000\n",
      "Test: loss;: 1.1639 acc: 0.6990\n",
      "Total Inference time elapsed: 0.0592s\n"
     ]
    },
    {
     "data": {
      "application/vnd.jupyter.widget-view+json": {
       "model_id": "f097f3305c3148b7af8c0d73ec661653",
       "version_major": 2,
       "version_minor": 0
      },
      "text/plain": [
       "HBox(children=(IntProgress(value=0, max=200), HTML(value='')))"
      ]
     },
     "metadata": {},
     "output_type": "display_data"
    },
    {
     "name": "stdout",
     "output_type": "stream",
     "text": [
      "Early Stop at Epoch 138\n",
      "Optimization Finished!\n",
      "Total Training time elapsed: 883.8949s\n",
      "Start Inference:\n",
      "Train: loss;: 0.1630 acc: 1.0000\n",
      "Test: loss;: 0.6077 acc: 0.7740\n",
      "Total Inference time elapsed: 0.1997s\n"
     ]
    }
   ],
   "source": [
    "for dataset_str in DATASET:\n",
    "\n",
    "    G,_, features, labels, idx_train,idx_test,idx_val=load_data(dataset_str)\n",
    "    A= get_adjacency_matrix(G)\n",
    "    A=A + sparse.eye(A.shape[0])\n",
    "    A_norm=sparse_mx_to_torch_sparse_tensor(A)\n",
    "\n",
    "\n",
    "    model = GAT(adj=A_norm,nheads=nheads,nfeat=features.shape[1],\n",
    "                nhid=hidden,\n",
    "                nclass=labels.max().item() + 1,\n",
    "                dropout=dropout,res_connection=True,last_layer_mh=False).to(device=device)\n",
    "    optimizer = torch.optim.Adam(model.parameters(), lr=lr,weight_decay=weight_decay)\n",
    "\n",
    "\n",
    "\n",
    "    # Train model\n",
    "    t_total = time.time()\n",
    "    epoch_no_improvement=0\n",
    "    min_val_loss=float('inf')\n",
    "\n",
    "    init_loss_train, init_acc_train=evaluate(idx_train)\n",
    "    training_loss_list=[init_loss_train]\n",
    "    training_error_list=[1-init_acc_train]\n",
    "\n",
    "    if not fast_training:\n",
    "        init_loss_val, init_acc_val=evaluate(idx_val)\n",
    "        validation_loss_list=[init_loss_val]\n",
    "        validation_error_list=[1-init_acc_val]\n",
    "\n",
    "    for epoch in tqdm_notebook(range(epochs)):\n",
    "\n",
    "        loss_train,acc_train=train(idx_train)\n",
    "        training_loss_list.append(loss_train)\n",
    "        training_error_list.append(1-acc_train)\n",
    "        #print('Epoch: {:04d} ,loss_train: {:.4f},acc_train: {:.4f}\\n'.format(epoch+1,loss_train,acc_train),end=\"\")\n",
    "\n",
    "        if not fast_training:\n",
    "\n",
    "            loss_val,acc_val=evaluate(idx_val)\n",
    "            validation_loss_list.append(loss_val)\n",
    "            validation_error_list.append(1-acc_val)\n",
    "\n",
    "           #print('Eval: ,loss_val: {:.4f},acc_val: {:.4f}\\n'.format(loss_val,acc_val),end=\"\")\n",
    "            if loss_val<min_val_loss:\n",
    "              epoch_no_improvement=0\n",
    "              min_val_loss = loss_val\n",
    "            else:\n",
    "              epoch_no_improvement+=1\n",
    "\n",
    "            if epoch_no_improvement==early_stop_epoch:\n",
    "              print('Early Stop at Epoch %d'%(epoch))\n",
    "              break\n",
    "            #print()\n",
    "\n",
    "\n",
    "    print(\"Optimization Finished!\")\n",
    "    print(\"Total Training time elapsed: {:.4f}s\".format(time.time() - t_total))\n",
    "\n",
    "\n",
    "    #test\n",
    "    print(\"Start Inference:\")\n",
    "\n",
    "\n",
    "    loss_trn,acc_trn=evaluate(idx_train)\n",
    "    print('Train:','loss;: {:.4f}'.format( loss_trn),\n",
    "              'acc: {:.4f}'.format(acc_trn))\n",
    "\n",
    "\n",
    "    t_total = time.time()\n",
    "    loss_test,acc_test=evaluate(idx_test)\n",
    "    print('Test:','loss;: {:.4f}'.format( loss_test),\n",
    "              'acc: {:.4f}'.format(acc_test))\n",
    "    print(\"Total Inference time elapsed: {:.4f}s\".format(time.time() - t_total))\n"
   ]
  },
  {
   "cell_type": "code",
   "execution_count": 11,
   "metadata": {},
   "outputs": [],
   "source": [
    "no_cuda= False,\n",
    "seed=42\n",
    "epochs=200\n",
    "lr=0.005\n",
    "weight_decay=1e-3\n",
    "hidden=8\n",
    "dropout=0.6\n",
    "fast_training=False\n",
    "device = torch.device(\"cuda\" if torch.cuda.is_available() and not no_cuda else \"cpu\")\n",
    "early_stop_epoch=10\n",
    "nheads=8\n",
    "DATASET=['github_user']"
   ]
  },
  {
   "cell_type": "code",
   "execution_count": null,
   "metadata": {},
   "outputs": [
    {
     "data": {
      "application/vnd.jupyter.widget-view+json": {
       "model_id": "963703d751ce4da9b10a9a23c4f4d302",
       "version_major": 2,
       "version_minor": 0
      },
      "text/plain": [
       "HBox(children=(IntProgress(value=0, max=200), HTML(value='')))"
      ]
     },
     "metadata": {},
     "output_type": "display_data"
    },
    {
     "ename": "KeyboardInterrupt",
     "evalue": "",
     "output_type": "error",
     "traceback": [
      "\u001b[0;31m---------------------------------------------------------------------------\u001b[0m",
      "\u001b[0;31mKeyboardInterrupt\u001b[0m                         Traceback (most recent call last)",
      "\u001b[0;32m<ipython-input-12-aab4f03e8912>\u001b[0m in \u001b[0;36m<module>\u001b[0;34m()\u001b[0m\n\u001b[1;32m     31\u001b[0m     \u001b[0;32mfor\u001b[0m \u001b[0mepoch\u001b[0m \u001b[0;32min\u001b[0m \u001b[0mtqdm_notebook\u001b[0m\u001b[0;34m(\u001b[0m\u001b[0mrange\u001b[0m\u001b[0;34m(\u001b[0m\u001b[0mepochs\u001b[0m\u001b[0;34m)\u001b[0m\u001b[0;34m)\u001b[0m\u001b[0;34m:\u001b[0m\u001b[0;34m\u001b[0m\u001b[0m\n\u001b[1;32m     32\u001b[0m \u001b[0;34m\u001b[0m\u001b[0m\n\u001b[0;32m---> 33\u001b[0;31m         \u001b[0mloss_train\u001b[0m\u001b[0;34m,\u001b[0m\u001b[0macc_train\u001b[0m\u001b[0;34m=\u001b[0m\u001b[0mtrain\u001b[0m\u001b[0;34m(\u001b[0m\u001b[0midx_train\u001b[0m\u001b[0;34m)\u001b[0m\u001b[0;34m\u001b[0m\u001b[0m\n\u001b[0m\u001b[1;32m     34\u001b[0m         \u001b[0mtraining_loss_list\u001b[0m\u001b[0;34m.\u001b[0m\u001b[0mappend\u001b[0m\u001b[0;34m(\u001b[0m\u001b[0mloss_train\u001b[0m\u001b[0;34m)\u001b[0m\u001b[0;34m\u001b[0m\u001b[0m\n\u001b[1;32m     35\u001b[0m         \u001b[0mtraining_error_list\u001b[0m\u001b[0;34m.\u001b[0m\u001b[0mappend\u001b[0m\u001b[0;34m(\u001b[0m\u001b[0;36m1\u001b[0m\u001b[0;34m-\u001b[0m\u001b[0macc_train\u001b[0m\u001b[0;34m)\u001b[0m\u001b[0;34m\u001b[0m\u001b[0m\n",
      "\u001b[0;32m<ipython-input-6-61af773854df>\u001b[0m in \u001b[0;36mtrain\u001b[0;34m(idx_train)\u001b[0m\n\u001b[1;32m      9\u001b[0m   \u001b[0macc_train\u001b[0m \u001b[0;34m=\u001b[0m \u001b[0maccuracy\u001b[0m\u001b[0;34m(\u001b[0m\u001b[0moutput\u001b[0m\u001b[0;34m,\u001b[0m \u001b[0mlabels\u001b[0m\u001b[0;34m,\u001b[0m\u001b[0midx_train\u001b[0m\u001b[0;34m)\u001b[0m\u001b[0;34m\u001b[0m\u001b[0m\n\u001b[1;32m     10\u001b[0m   \u001b[0moptimizer\u001b[0m\u001b[0;34m.\u001b[0m\u001b[0mzero_grad\u001b[0m\u001b[0;34m(\u001b[0m\u001b[0;34m)\u001b[0m\u001b[0;34m\u001b[0m\u001b[0m\n\u001b[0;32m---> 11\u001b[0;31m   \u001b[0mloss_train\u001b[0m\u001b[0;34m.\u001b[0m\u001b[0mbackward\u001b[0m\u001b[0;34m(\u001b[0m\u001b[0;34m)\u001b[0m\u001b[0;34m\u001b[0m\u001b[0m\n\u001b[0m\u001b[1;32m     12\u001b[0m \u001b[0;34m\u001b[0m\u001b[0m\n\u001b[1;32m     13\u001b[0m   \u001b[0moptimizer\u001b[0m\u001b[0;34m.\u001b[0m\u001b[0mstep\u001b[0m\u001b[0;34m(\u001b[0m\u001b[0;34m)\u001b[0m\u001b[0;34m\u001b[0m\u001b[0m\n",
      "\u001b[0;32m~/anaconda3/envs/pytorch_p36/lib/python3.6/site-packages/torch/tensor.py\u001b[0m in \u001b[0;36mbackward\u001b[0;34m(self, gradient, retain_graph, create_graph)\u001b[0m\n\u001b[1;32m    116\u001b[0m                 \u001b[0mproducts\u001b[0m\u001b[0;34m.\u001b[0m \u001b[0mDefaults\u001b[0m \u001b[0mto\u001b[0m\u001b[0;31m \u001b[0m\u001b[0;31m`\u001b[0m\u001b[0;31m`\u001b[0m\u001b[0;32mFalse\u001b[0m\u001b[0;31m`\u001b[0m\u001b[0;31m`\u001b[0m\u001b[0;34m.\u001b[0m\u001b[0;34m\u001b[0m\u001b[0m\n\u001b[1;32m    117\u001b[0m         \"\"\"\n\u001b[0;32m--> 118\u001b[0;31m         \u001b[0mtorch\u001b[0m\u001b[0;34m.\u001b[0m\u001b[0mautograd\u001b[0m\u001b[0;34m.\u001b[0m\u001b[0mbackward\u001b[0m\u001b[0;34m(\u001b[0m\u001b[0mself\u001b[0m\u001b[0;34m,\u001b[0m \u001b[0mgradient\u001b[0m\u001b[0;34m,\u001b[0m \u001b[0mretain_graph\u001b[0m\u001b[0;34m,\u001b[0m \u001b[0mcreate_graph\u001b[0m\u001b[0;34m)\u001b[0m\u001b[0;34m\u001b[0m\u001b[0m\n\u001b[0m\u001b[1;32m    119\u001b[0m \u001b[0;34m\u001b[0m\u001b[0m\n\u001b[1;32m    120\u001b[0m     \u001b[0;32mdef\u001b[0m \u001b[0mregister_hook\u001b[0m\u001b[0;34m(\u001b[0m\u001b[0mself\u001b[0m\u001b[0;34m,\u001b[0m \u001b[0mhook\u001b[0m\u001b[0;34m)\u001b[0m\u001b[0;34m:\u001b[0m\u001b[0;34m\u001b[0m\u001b[0m\n",
      "\u001b[0;32m~/anaconda3/envs/pytorch_p36/lib/python3.6/site-packages/torch/autograd/__init__.py\u001b[0m in \u001b[0;36mbackward\u001b[0;34m(tensors, grad_tensors, retain_graph, create_graph, grad_variables)\u001b[0m\n\u001b[1;32m     91\u001b[0m     Variable._execution_engine.run_backward(\n\u001b[1;32m     92\u001b[0m         \u001b[0mtensors\u001b[0m\u001b[0;34m,\u001b[0m \u001b[0mgrad_tensors\u001b[0m\u001b[0;34m,\u001b[0m \u001b[0mretain_graph\u001b[0m\u001b[0;34m,\u001b[0m \u001b[0mcreate_graph\u001b[0m\u001b[0;34m,\u001b[0m\u001b[0;34m\u001b[0m\u001b[0m\n\u001b[0;32m---> 93\u001b[0;31m         allow_unreachable=True)  # allow_unreachable flag\n\u001b[0m\u001b[1;32m     94\u001b[0m \u001b[0;34m\u001b[0m\u001b[0m\n\u001b[1;32m     95\u001b[0m \u001b[0;34m\u001b[0m\u001b[0m\n",
      "\u001b[0;31mKeyboardInterrupt\u001b[0m: "
     ]
    }
   ],
   "source": [
    "for dataset_str in DATASET:\n",
    "\n",
    "    G,_, features, labels, idx_train,idx_test,idx_val=load_data(dataset_str)\n",
    "    A= get_adjacency_matrix(G)\n",
    "    A=A + sparse.eye(A.shape[0])\n",
    "    A_norm=sparse_mx_to_torch_sparse_tensor(A)\n",
    "\n",
    "\n",
    "    model = GAT(adj=A_norm,nheads=nheads,nfeat=features.shape[1],\n",
    "                nhid=hidden,\n",
    "                nclass=labels.max().item() + 1,\n",
    "                dropout=dropout,res_connection=True,last_layer_mh=False).to(device=device)\n",
    "    optimizer = torch.optim.Adam(model.parameters(), lr=lr,weight_decay=weight_decay)\n",
    "\n",
    "\n",
    "\n",
    "    # Train model\n",
    "    t_total = time.time()\n",
    "    epoch_no_improvement=0\n",
    "    min_val_loss=float('inf')\n",
    "\n",
    "    init_loss_train, init_acc_train=evaluate(idx_train)\n",
    "    training_loss_list=[init_loss_train]\n",
    "    training_error_list=[1-init_acc_train]\n",
    "\n",
    "    if not fast_training:\n",
    "        init_loss_val, init_acc_val=evaluate(idx_val)\n",
    "        validation_loss_list=[init_loss_val]\n",
    "        validation_error_list=[1-init_acc_val]\n",
    "\n",
    "    for epoch in tqdm_notebook(range(epochs)):\n",
    "\n",
    "        loss_train,acc_train=train(idx_train)\n",
    "        training_loss_list.append(loss_train)\n",
    "        training_error_list.append(1-acc_train)\n",
    "        #print('Epoch: {:04d} ,loss_train: {:.4f},acc_train: {:.4f}\\n'.format(epoch+1,loss_train,acc_train),end=\"\")\n",
    "\n",
    "        if not fast_training:\n",
    "\n",
    "            loss_val,acc_val=evaluate(idx_val)\n",
    "            validation_loss_list.append(loss_val)\n",
    "            validation_error_list.append(1-acc_val)\n",
    "\n",
    "           #print('Eval: ,loss_val: {:.4f},acc_val: {:.4f}\\n'.format(loss_val,acc_val),end=\"\")\n",
    "            if loss_val<min_val_loss:\n",
    "              epoch_no_improvement=0\n",
    "              min_val_loss = loss_val\n",
    "            else:\n",
    "              epoch_no_improvement+=1\n",
    "\n",
    "            if epoch_no_improvement==early_stop_epoch:\n",
    "              print('Early Stop at Epoch %d'%(epoch))\n",
    "              break\n",
    "            #print()\n",
    "\n",
    "\n",
    "    print(\"Optimization Finished!\")\n",
    "    print(\"Total Training time elapsed: {:.4f}s\".format(time.time() - t_total))\n",
    "\n",
    "\n",
    "    #test\n",
    "    print(\"Start Inference:\")\n",
    "\n",
    "\n",
    "    loss_trn,acc_trn=evaluate(idx_train)\n",
    "    print('Train:','loss;: {:.4f}'.format( loss_trn),\n",
    "              'acc: {:.4f}'.format(acc_trn))\n",
    "\n",
    "\n",
    "    t_total = time.time()\n",
    "    loss_test,acc_test=evaluate(idx_test)\n",
    "    print('Test:','loss;: {:.4f}'.format( loss_test),\n",
    "              'acc: {:.4f}'.format(acc_test))\n",
    "    print(\"Total Inference time elapsed: {:.4f}s\".format(time.time() - t_total))\n"
   ]
  },
  {
   "cell_type": "markdown",
   "metadata": {},
   "source": [
    "# Plotting of Neural Model"
   ]
  },
  {
   "cell_type": "code",
   "execution_count": 14,
   "metadata": {},
   "outputs": [],
   "source": [
    "  \n",
    "def train(idx_train):\n",
    "  \n",
    "    model.train()\n",
    "   \n",
    "    output = model(features)\n",
    "    \n",
    "    loss_train=loss(output,labels,idx_train)\n",
    "    acc_train = accuracy(output, labels,idx_train)\n",
    "    optimizer.zero_grad()\n",
    "    loss_train.backward()\n",
    "    \n",
    "    optimizer.step()\n",
    "   \n",
    "    return loss_train.item(),acc_train.item()\n",
    "\n",
    "\n",
    "def evaluate(idx):\n",
    "    model.eval()\n",
    "    output = model(features)\n",
    "    loss_ =loss(output,labels,idx)\n",
    "    acc_ = accuracy(output, labels,idx)\n",
    "\n",
    "    return loss_.item(),acc_.item()\n",
    "\n",
    "\n",
    "def train_model():\n",
    "    # Train model\n",
    "    training_loss_list=[]\n",
    "    training_error_list=[]\n",
    "    validation_loss_list=[]\n",
    "    validation_error_list=[]\n",
    "        \n",
    "    t_total = time.time()\n",
    "    epoch_no_improvement=0\n",
    "    min_val_loss=float('inf')\n",
    "\n",
    "    init_loss_train, init_acc_train=evaluate(idx_train)\n",
    "    training_loss_list=[init_loss_train]\n",
    "    training_error_list=[1-init_acc_train]\n",
    "\n",
    "    if not fast_training:\n",
    "        init_loss_val, init_acc_val=evaluate(idx_val)\n",
    "        validation_loss_list=[init_loss_val]\n",
    "        validation_error_list=[1-init_acc_val]\n",
    "\n",
    "    for epoch in tqdm_notebook(range(epochs)):\n",
    "\n",
    "        loss_train,acc_train=train(idx_train)\n",
    "        training_loss_list.append(loss_train)\n",
    "        training_error_list.append(1-acc_train)\n",
    "        #print('Epoch: {:04d} ,loss_train: {:.4f},acc_train: {:.4f}\\n'.format(epoch+1,loss_train,acc_train),end=\"\")\n",
    "        loss_val,acc_val=evaluate(idx_val)\n",
    "        validation_loss_list.append(loss_val)\n",
    "        validation_error_list.append(1-acc_val)\n",
    "\n",
    "    return [training_loss_list,validation_loss_list,training_error_list,validation_error_list]"
   ]
  },
  {
   "cell_type": "code",
   "execution_count": null,
   "metadata": {},
   "outputs": [
    {
     "data": {
      "application/vnd.jupyter.widget-view+json": {
       "model_id": "560e58b26aa64970b88cb1b6027f115f",
       "version_major": 2,
       "version_minor": 0
      },
      "text/plain": [
       "HBox(children=(IntProgress(value=0, max=200), HTML(value='')))"
      ]
     },
     "metadata": {},
     "output_type": "display_data"
    },
    {
     "name": "stdout",
     "output_type": "stream",
     "text": [
      "\n"
     ]
    },
    {
     "data": {
      "application/vnd.jupyter.widget-view+json": {
       "model_id": "4720cb8207a44d89b696457f431e2b6a",
       "version_major": 2,
       "version_minor": 0
      },
      "text/plain": [
       "HBox(children=(IntProgress(value=0, max=200), HTML(value='')))"
      ]
     },
     "metadata": {},
     "output_type": "display_data"
    },
    {
     "name": "stdout",
     "output_type": "stream",
     "text": [
      "\n"
     ]
    },
    {
     "data": {
      "application/vnd.jupyter.widget-view+json": {
       "model_id": "a390766fbebc485798555951fcdb7368",
       "version_major": 2,
       "version_minor": 0
      },
      "text/plain": [
       "HBox(children=(IntProgress(value=0, max=200), HTML(value='')))"
      ]
     },
     "metadata": {},
     "output_type": "display_data"
    },
    {
     "name": "stdout",
     "output_type": "stream",
     "text": [
      "\n"
     ]
    },
    {
     "data": {
      "application/vnd.jupyter.widget-view+json": {
       "model_id": "ed93915b52104b0ab7dc2d92d9b6f7e1",
       "version_major": 2,
       "version_minor": 0
      },
      "text/plain": [
       "HBox(children=(IntProgress(value=0, max=200), HTML(value='')))"
      ]
     },
     "metadata": {},
     "output_type": "display_data"
    },
    {
     "name": "stdout",
     "output_type": "stream",
     "text": [
      "\n"
     ]
    },
    {
     "data": {
      "application/vnd.jupyter.widget-view+json": {
       "model_id": "0e8fd7d871d741ccb468be559180d669",
       "version_major": 2,
       "version_minor": 0
      },
      "text/plain": [
       "HBox(children=(IntProgress(value=0, max=200), HTML(value='')))"
      ]
     },
     "metadata": {},
     "output_type": "display_data"
    },
    {
     "name": "stdout",
     "output_type": "stream",
     "text": [
      "\n"
     ]
    },
    {
     "data": {
      "application/vnd.jupyter.widget-view+json": {
       "model_id": "6a4ae5b026b84527b7de30a0e4640940",
       "version_major": 2,
       "version_minor": 0
      },
      "text/plain": [
       "HBox(children=(IntProgress(value=0, max=200), HTML(value='')))"
      ]
     },
     "metadata": {},
     "output_type": "display_data"
    }
   ],
   "source": [
    "DATASET=['pubmed','github_user']\n",
    "\n",
    "\n",
    "no_cuda= False,\n",
    "seed=42\n",
    "epochs=200\n",
    "lr=0.01\n",
    "weight_decay=5e-4\n",
    "hidden=16\n",
    "dropout=0.6\n",
    "fast_training=False\n",
    "device = torch.device(\"cuda\" if torch.cuda.is_available() and not no_cuda else \"cpu\")\n",
    "early_stop_epoch=10000\n",
    "nheads=8\n",
    "\n",
    "\n",
    "names=['GCN','GCN (residual)','GAT']\n",
    "color_list=['red','green','blue']\n",
    "\n",
    "for dataset_str in DATASET:\n",
    "    plt.figure(figsize=(18,4))\n",
    "\n",
    "    ax1=plt.subplot(141)\n",
    "    ax2=plt.subplot(142)\n",
    "    ax3=plt.subplot(143)\n",
    "    ax4=plt.subplot(144)\n",
    "    axes=[ax1,ax2,ax3,ax4]\n",
    "    for  model_index in range(3):\n",
    "        if model_index==0:\n",
    "  \n",
    "            G,A_norm, features, labels, idx_train,idx_test,idx_val=load_data(dataset_str)\n",
    "            model = MutipleGCN(adj=A_norm,ngcu=2,nfeat=features.shape[1],\n",
    "                        nhid=hidden,\n",
    "                        nclass=labels.max().item() + 1,\n",
    "                        dropout=dropout,res_connection=False).to(device=device)\n",
    "            optimizer = torch.optim.Adam(model.parameters(), lr=lr,weight_decay=weight_decay)\n",
    "        elif model_index==1:\n",
    "  \n",
    "            G,A_norm, features, labels, idx_train,idx_test,idx_val=load_data(dataset_str)\n",
    "\n",
    "            model = MutipleGCN(adj=A_norm,ngcu=2,nfeat=features.shape[1],\n",
    "                        nhid=hidden,\n",
    "                        nclass=labels.max().item() + 1,\n",
    "                        dropout=dropout,res_connection=True).to(device=device)\n",
    "            optimizer = torch.optim.Adam(model.parameters(), lr=lr,weight_decay=weight_decay)\n",
    "        else:\n",
    "  \n",
    "            G,A_norm, features, labels, idx_train,idx_test,idx_val=load_data(dataset_str)\n",
    "            A= get_adjacency_matrix(G)\n",
    "            A=A + sparse.eye(A.shape[0])\n",
    "            A_norm=sparse_mx_to_torch_sparse_tensor(A)\n",
    "\n",
    "            model = GAT(adj=A_norm,nheads=nheads,nfeat=features.shape[1],\n",
    "                        nhid=hidden,\n",
    "                        nclass=labels.max().item() + 1,\n",
    "                        dropout=dropout,res_connection=True,last_layer_mh=False).to(device=device)\n",
    "            optimizer = torch.optim.Adam(model.parameters(), lr=lr,weight_decay=weight_decay)\n",
    "        #train_model    \n",
    "        \n",
    "        trn_statistics=train_model()\n",
    "        x=range(len(trn_statistics[0]))\n",
    "        for j in range(len(trn_statistics)):\n",
    "            axes[j].plot(x, trn_statistics[j], label=names[model_index], marker=None,color=color_list[model_index])\n",
    "    \n",
    "    target_word1=['Loss','Loss','Error','Error']\n",
    "    target_word2=['Training Loss','Validation Loss','Training Error','Validation Error']\n",
    "    for j in range(4):\n",
    "        axes[j].set_xlabel(\"Epoch\")\n",
    "        axes[j].set_ylabel(target_word1[j])\n",
    "        axes[j].title.set_text(target_word2[j])\n",
    "        axes[j].legend(loc=1)\n",
    "        axes[j].set_xticks([0,50,100,150,200])\n",
    "  \n",
    "    plt.suptitle(\"{}\".format(dataset_str.capitalize()),y=-0.01)\n",
    "   \n",
    "    plt.savefig(\"{}_three_model.jpg\".format(dataset_str))\n",
    "    #plt.show()\n",
    "    "
   ]
  },
  {
   "cell_type": "markdown",
   "metadata": {},
   "source": [
    "# Wall Clock Time"
   ]
  },
  {
   "cell_type": "code",
   "execution_count": 14,
   "metadata": {},
   "outputs": [],
   "source": [
    "\n",
    "no_cuda= False,\n",
    "seed=42\n",
    "epochs=200\n",
    "lr=0.01\n",
    "weight_decay=5e-4\n",
    "hidden=16\n",
    "dropout=0.6\n",
    "fast_training=False\n",
    "device = torch.device(\"cuda\" if torch.cuda.is_available() and not no_cuda else \"cpu\")\n",
    "early_stop_epoch=10000\n",
    "nheads=8\n"
   ]
  },
  {
   "cell_type": "code",
   "execution_count": null,
   "metadata": {},
   "outputs": [
    {
     "name": "stdout",
     "output_type": "stream",
     "text": [
      "1\n",
      "2\n",
      "3\n",
      "4\n",
      "5\n",
      "10\n",
      "20\n",
      "50\n",
      "100\n",
      "200\n",
      "1\n",
      "2\n",
      "3\n",
      "4\n",
      "5\n",
      "10\n",
      "20\n",
      "50\n"
     ]
    }
   ],
   "source": [
    "def train_model_time(dataset_str,depth=None,res_connection=False):\n",
    "    G,A_norm, features, labels, _,_,_=load_data(dataset_str)\n",
    "    \n",
    "    idx_train=np.arange(len(features))\n",
    "    idx_train=torch.LongTensor(idx_train)\n",
    "    \n",
    "    def train(idx_train): \n",
    "        model.train()\n",
    "\n",
    "        output = model(features)\n",
    "\n",
    "        loss_train=loss(output,labels,idx_train)\n",
    "        acc_train = accuracy(output, labels,idx_train)\n",
    "        optimizer.zero_grad()\n",
    "        loss_train.backward()\n",
    "\n",
    "        optimizer.step()\n",
    "\n",
    "        return loss_train.item(),acc_train.item()\n",
    "    def evaluate(idx):\n",
    "        model.eval()\n",
    "        output = model(features)\n",
    "        loss_ =loss(output,labels,idx)\n",
    "        acc_ = accuracy(output, labels,idx)\n",
    "\n",
    "        return loss_.item(),acc_.item()\n",
    "    \n",
    "\n",
    "    model = MutipleGCN(adj=A_norm,ngcu=depth,nfeat=features.shape[1],\n",
    "                nhid=hidden,\n",
    "                nclass=labels.max().item() + 1,\n",
    "                dropout=dropout,res_connection=res_connection).to(device=device)\n",
    "    optimizer = torch.optim.Adam(model.parameters(), lr=lr,weight_decay=weight_decay)\n",
    "    \n",
    "    t_start = time.time()\n",
    "    for i in range(10):\n",
    "        loss_train,acc_train=train(idx_train)\n",
    "            \n",
    "    training_time=(time.time() - t_start)/10\n",
    "    \n",
    "    t_start = time.time()\n",
    "    for i in range(10):\n",
    "        loss_val,acc_val=evaluate(idx_train)\n",
    "    \n",
    "    inference_time=(time.time() - t_start)/10\n",
    "    \n",
    "    return training_time,inference_time\n",
    "\n",
    "def plot_runtime_analysis(dataset_str,ndepth_list):\n",
    "    plt.figure(figsize=(10,6))\n",
    "    ax1=plt.subplot(111)\n",
    "\n",
    "\n",
    "    dataset_str=dataset_str\n",
    "    train_with_res_temp=[]\n",
    "    test_with_res_temp=[]\n",
    "    test_without_res_temp=[]\n",
    "    train_without_res_temp=[]\n",
    "    for depth in ndepth_list:\n",
    "        print(depth)\n",
    "\n",
    "        trn_time1,tst_time1=train_model_time(dataset_str,depth=depth,res_connection=True)\n",
    "        \n",
    "        trn_time2,tst_time2=train_model_time(dataset_str,depth=depth,res_connection=False)\n",
    "        \n",
    "        train_with_res_temp.append(trn_time1)\n",
    "        test_with_res_temp.append(tst_time1)\n",
    "        train_without_res_temp.append(trn_time2)\n",
    "        test_without_res_temp.append(tst_time2)\n",
    "\n",
    "\n",
    "    x=range(1,len(ndepth_list)+1)\n",
    "    ax1.plot(x, train_with_res_temp,'g-', label=\"Training (Residual)\",marker='o')\n",
    "    ax1.plot(x, test_with_res_temp,'r-', label=\"Inference (Residual)\", marker='o')\n",
    "    ax1.plot(x, train_without_res_temp,'b--', label=\"Training\", marker='o')\n",
    "    ax1.plot(x, test_without_res_temp,'y--',label=\"Inference\", marker='o')\n",
    "\n",
    "    ax1.set_xlabel(\"Number of Layers\")\n",
    "    ax1.set_ylabel(\"Time\")\n",
    " \n",
    "    ax1.legend(loc=2)\n",
    "    ax1.set_xticks(x)\n",
    "    ax1.set_xticklabels(ndepth_list)\n",
    "    if dataset_str=='github_user':\n",
    "        ax1.title.set_text('GSN')\n",
    "    else:\n",
    "        ax1.title.set_text(dataset_str.capitalize())\n",
    "    \n",
    "\n",
    "    \n",
    "    plt.savefig(\"run_time_plot_{}.jpg\".format(dataset_str))\n",
    "    #plt.show()\n",
    "    return \n",
    "\n",
    "\n",
    "DATASET=['cora','citeseer','pubmed','github_user']\n",
    "DEPTH_LIST=[1,2,3,4,5,10,20,50,100,200]\n",
    "\n",
    "for name in DATASET:\n",
    "    plot_runtime_analysis(dataset_str=name,ndepth_list=DEPTH_LIST)"
   ]
  },
  {
   "cell_type": "code",
   "execution_count": null,
   "metadata": {},
   "outputs": [],
   "source": [
    "def train_gat_model(dataset_str,depth,res_connection=False):\n",
    "    G,A_norm, features, labels, _,_,_=load_data(dataset_str)\n",
    "    \n",
    "    idx_train=np.arange(len(features))\n",
    "    idx_train=torch.LongTensor(idx_train)\n",
    "    \n",
    "    def train(idx_train): \n",
    "        model.train()\n",
    "\n",
    "        output = model(features)\n",
    "\n",
    "        loss_train=loss(output,labels,idx_train)\n",
    "        acc_train = accuracy(output, labels,idx_train)\n",
    "        optimizer.zero_grad()\n",
    "        loss_train.backward()\n",
    "\n",
    "        optimizer.step()\n",
    "\n",
    "        return loss_train.item(),acc_train.item()\n",
    "    def evaluate(idx):\n",
    "        model.eval()\n",
    "        output = model(features)\n",
    "        loss_ =loss(output,labels,idx)\n",
    "        acc_ = accuracy(output, labels,idx)\n",
    "\n",
    "        return loss_.item(),acc_.item()\n",
    "    \n",
    "    A= get_adjacency_matrix(G)\n",
    "    A=A + sparse.eye(A.shape[0])\n",
    "    A_norm=sparse_mx_to_torch_sparse_tensor(A)\n",
    "\n",
    "    model = GAT(adj=A_norm,nheads=depth,nfeat=features.shape[1],\n",
    "                nhid=hidden,\n",
    "                nclass=labels.max().item() + 1,\n",
    "                dropout=dropout,res_connection=True,last_layer_mh=False).to(device=device)\n",
    "    optimizer = torch.optim.Adam(model.parameters(), lr=lr,weight_decay=weight_decay)\n",
    "    \n",
    "    t_start = time.time()\n",
    "    for i in range(10):\n",
    "        loss_train,acc_train=train(idx_train)\n",
    "            \n",
    "    training_time=(time.time() - t_start)/10\n",
    "    \n",
    "    t_start = time.time()\n",
    "    for i in range(10):\n",
    "        loss_val,acc_val=evaluate(idx_train)\n",
    "    \n",
    "    inference_time=(time.time() - t_start)/10\n",
    "    \n",
    "    return training_time,inference_time    "
   ]
  },
  {
   "cell_type": "code",
   "execution_count": null,
   "metadata": {},
   "outputs": [
    {
     "name": "stdout",
     "output_type": "stream",
     "text": [
      "4\n",
      "5\n",
      "8\n",
      "10\n",
      "15\n",
      "20\n"
     ]
    },
    {
     "data": {
      "image/png": "[encoded data removed]",
      "text/plain": [
       "<Figure size 720x432 with 1 Axes>"
      ]
     },
     "metadata": {},
     "output_type": "display_data"
    }
   ],
   "source": [
    "\n",
    "def plot_runtime_analysis_forGAT(dataset_str,ndepth_list):\n",
    "    plt.figure(figsize=(10,6))\n",
    "    ax1=plt.subplot(111)\n",
    "\n",
    "    dataset_str=dataset_str\n",
    "    test_without_res_temp=[]\n",
    "    train_without_res_temp=[]\n",
    "    for depth in ndepth_list:\n",
    "        print(depth)\n",
    "\n",
    "        trn_time1,tst_time1=train_gat_model(dataset_str,depth=depth,res_connection=False)\n",
    "      \n",
    "        \n",
    "        train_without_res_temp.append(trn_time1)\n",
    "        test_without_res_temp.append(tst_time1)\n",
    "   \n",
    "\n",
    "    x=range(1,len(ndepth_list)+1)\n",
    "\n",
    "    ax1.plot(x, train_without_res_temp,'b--', label=\"Training\", marker='o')\n",
    "    ax1.plot(x, test_without_res_temp,'y--',label=\"Inference\", marker='o')\n",
    "\n",
    "    ax1.set_xlabel(\"Number of Attention Heads\")\n",
    "    ax1.set_ylabel(\"Time\")\n",
    "    if dataset_str=='github_user':\n",
    "        ax1.title.set_text('GSN')\n",
    "    else:\n",
    "        ax1.title.set_text(dataset_str.capitalize())\n",
    "    ax1.legend(loc=2)\n",
    "    ax1.set_xticks(x)\n",
    "    ax1.set_xticklabels(ndepth_list)\n",
    "    \n",
    "    \n",
    "    plt.savefig(\"run_time_plot_GAT_{}.jpg\".format(dataset_str))\n",
    "    plt.show()\n",
    "    return \n",
    "DATASET=['cora','citeseer','pubmed','github_user']\n",
    "DEPTH_LIST=[1,2,3,4,5,8,10,15,20]\n",
    "\n",
    "for name in DATASET:\n",
    "    plot_runtime_analysis_forGAT(dataset_str=name,ndepth_list=DEPTH_LIST)"
   ]
  },
  {
   "cell_type": "code",
   "execution_count": null,
   "metadata": {},
   "outputs": [],
   "source": []
  }
 ],
 "metadata": {
  "kernelspec": {
   "display_name": "conda_pytorch_p36",
   "language": "python",
   "name": "conda_pytorch_p36"
  }
 },
 "nbformat": 4,
 "nbformat_minor": 2
}
